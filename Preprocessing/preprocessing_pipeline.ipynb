{
  "nbformat": 4,
  "nbformat_minor": 0,
  "metadata": {
    "colab": {
      "provenance": []
    },
    "kernelspec": {
      "name": "python3",
      "display_name": "Python 3"
    },
    "language_info": {
      "name": "python"
    }
  },
  "cells": [
    {
      "cell_type": "code",
      "execution_count": 19,
      "metadata": {
        "id": "LMl-TdIZf32V"
      },
      "outputs": [],
      "source": [
        "import pandas as pd\n",
        "import matplotlib.pyplot as plt"
      ]
    },
    {
      "cell_type": "code",
      "source": [
        "# Mount Drive in Colab\n",
        "from google.colab import drive\n",
        "drive.mount('/content/drive')"
      ],
      "metadata": {
        "colab": {
          "base_uri": "https://localhost:8080/"
        },
        "id": "gKOZu_3Sf9t1",
        "outputId": "abd3cfd2-286b-4ff4-cee1-7df0040bc9ad"
      },
      "execution_count": 2,
      "outputs": [
        {
          "output_type": "stream",
          "name": "stdout",
          "text": [
            "Mounted at /content/drive\n"
          ]
        }
      ]
    },
    {
      "cell_type": "code",
      "source": [
        "fake_path = \"/content/drive/MyDrive/Datasets/Fake.csv\"\n",
        "true_path = \"/content/drive/MyDrive/Datasets/True.csv\""
      ],
      "metadata": {
        "id": "aburQYHsgI5-"
      },
      "execution_count": 3,
      "outputs": []
    },
    {
      "cell_type": "code",
      "source": [
        "# Clone Repo\n",
        "!git clone https://github.com/NavanjanaLAV/SE4050-deeplearning-2025.git"
      ],
      "metadata": {
        "colab": {
          "base_uri": "https://localhost:8080/"
        },
        "id": "3oqBUV-bgN2J",
        "outputId": "6df9669c-2d03-45fc-8305-ef5e24859f50"
      },
      "execution_count": 4,
      "outputs": [
        {
          "output_type": "stream",
          "name": "stdout",
          "text": [
            "Cloning into 'SE4050-deeplearning-2025'...\n",
            "remote: Enumerating objects: 21, done.\u001b[K\n",
            "remote: Counting objects: 100% (21/21), done.\u001b[K\n",
            "remote: Compressing objects: 100% (14/14), done.\u001b[K\n",
            "remote: Total 21 (delta 7), reused 12 (delta 2), pack-reused 0 (from 0)\u001b[K\n",
            "Receiving objects: 100% (21/21), 5.59 KiB | 5.59 MiB/s, done.\n",
            "Resolving deltas: 100% (7/7), done.\n"
          ]
        }
      ]
    },
    {
      "cell_type": "code",
      "source": [
        "# Go inside Preprosessing folder\n",
        "%cd SE4050-deeplearning-2025/Preprocessing"
      ],
      "metadata": {
        "colab": {
          "base_uri": "https://localhost:8080/"
        },
        "id": "2bmQcrjXgVct",
        "outputId": "ce41774f-c25b-4491-e800-9a387a5db454"
      },
      "execution_count": 5,
      "outputs": [
        {
          "output_type": "stream",
          "name": "stdout",
          "text": [
            "/content/SE4050-deeplearning-2025/Preprocessing\n"
          ]
        }
      ]
    },
    {
      "cell_type": "code",
      "source": [
        "# Download NLTK stopwords\n",
        "import nltk\n",
        "nltk.download('stopwords')"
      ],
      "metadata": {
        "colab": {
          "base_uri": "https://localhost:8080/"
        },
        "id": "lX9Wvhr-gXmO",
        "outputId": "ce327497-9621-4839-83a3-b296b4958d15"
      },
      "execution_count": 6,
      "outputs": [
        {
          "output_type": "stream",
          "name": "stderr",
          "text": [
            "[nltk_data] Downloading package stopwords to /root/nltk_data...\n",
            "[nltk_data]   Unzipping corpora/stopwords.zip.\n"
          ]
        },
        {
          "output_type": "execute_result",
          "data": {
            "text/plain": [
              "True"
            ]
          },
          "metadata": {},
          "execution_count": 6
        }
      ]
    },
    {
      "cell_type": "code",
      "source": [
        "import preprocess\n",
        "df=preprocess.load_and_clean_data(fake_path, true_path)"
      ],
      "metadata": {
        "colab": {
          "base_uri": "https://localhost:8080/"
        },
        "id": "j2UcnVFygZL8",
        "outputId": "efdcd544-4162-41fa-9209-e8e1b9d07e26"
      },
      "execution_count": 9,
      "outputs": [
        {
          "output_type": "stream",
          "name": "stdout",
          "text": [
            "Cleaned dataset saved to fake_or_real_news_cleaned.csv\n"
          ]
        }
      ]
    },
    {
      "cell_type": "code",
      "source": [
        "total = len(df)"
      ],
      "metadata": {
        "id": "q_9--gzNnEZV"
      },
      "execution_count": 10,
      "outputs": []
    },
    {
      "cell_type": "code",
      "source": [
        "# Count of fake and real\n",
        "fake_count = len(df[df['label'] == 0])\n",
        "real_count = len(df[df['label'] == 1])"
      ],
      "metadata": {
        "id": "KBt1ThYanRM0"
      },
      "execution_count": 11,
      "outputs": []
    },
    {
      "cell_type": "code",
      "source": [
        "# Percentages\n",
        "fake_percent = fake_count / total * 100\n",
        "real_percent = real_count / total * 100"
      ],
      "metadata": {
        "id": "Y7PwTwcgnVKV"
      },
      "execution_count": 12,
      "outputs": []
    },
    {
      "cell_type": "code",
      "source": [
        "print(f\"Total samples: {total}\")\n",
        "print(f\"Fake: {fake_count} ({fake_percent:.2f}%)\")\n",
        "print(f\"Real: {real_count} ({real_percent:.2f}%)\")"
      ],
      "metadata": {
        "colab": {
          "base_uri": "https://localhost:8080/"
        },
        "id": "5FekOezZnYXO",
        "outputId": "b9de0394-4044-44e7-9086-9e078e7057e1"
      },
      "execution_count": 13,
      "outputs": [
        {
          "output_type": "stream",
          "name": "stdout",
          "text": [
            "Total samples: 44898\n",
            "Fake: 23481 (52.30%)\n",
            "Real: 21417 (47.70%)\n"
          ]
        }
      ]
    },
    {
      "cell_type": "code",
      "source": [
        "\n",
        "# Count fake and real\n",
        "counts = df['label'].value_counts()  # 0=fake, 1=real\n",
        "\n",
        "# Map labels for display\n",
        "counts.index = ['Fake', 'Real']\n",
        "\n",
        "# ---- Pie Chart ----\n",
        "plt.figure(figsize=(6,6))\n",
        "plt.pie(counts.values, labels=counts.index, autopct='%1.1f%%', colors=['blue', 'green'], startangle=90)\n",
        "plt.title(\"Fake vs Real News Distribution\")\n",
        "plt.show()\n"
      ],
      "metadata": {
        "colab": {
          "base_uri": "https://localhost:8080/",
          "height": 521
        },
        "id": "eckzUnQ7noaF",
        "outputId": "533c3cd6-94a1-4ec6-a187-be72111ff2c7"
      },
      "execution_count": 20,
      "outputs": [
        {
          "output_type": "display_data",
          "data": {
            "text/plain": [
              "<Figure size 600x600 with 1 Axes>"
            ],
            "image/png": "[encoded data removed]"
          },
          "metadata": {}
        }
      ]
    }
  ]
}